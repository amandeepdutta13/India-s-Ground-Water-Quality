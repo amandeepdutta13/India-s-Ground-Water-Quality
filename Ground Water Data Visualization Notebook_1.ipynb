{
 "cells": [
  {
   "cell_type": "code",
   "execution_count": 1,
   "id": "d01bde98",
   "metadata": {},
   "outputs": [],
   "source": [
    "import numpy as np\n",
    "import pandas as pd\n",
    "import matplotlib.pyplot as plt\n",
    "import seaborn as sb\n",
    "\n",
    "%matplotlib inline"
   ]
  },
  {
   "cell_type": "code",
   "execution_count": 2,
   "id": "3bb0383e",
   "metadata": {},
   "outputs": [],
   "source": [
    "G12 = pd.read_csv('C:/Users/amand/OneDrive/Documents/Power BI Practice/Ground Water Project Notebook/Ground Water 2012.csv')\n",
    "G13 = pd.read_csv('C:/Users/amand/OneDrive/Documents/Power BI Practice/Ground Water Project Notebook/Ground Water 2013.csv')\n",
    "G14 = pd.read_csv('C:/Users/amand/OneDrive/Documents/Power BI Practice/Ground Water Project Notebook/Ground Water 2014.csv')\n",
    "G15 = pd.read_csv('C:/Users/amand/OneDrive/Documents/Power BI Practice/Ground Water Project Notebook/Ground Water 2015.csv')\n",
    "G16 = pd.read_csv('C:/Users/amand/OneDrive/Documents/Power BI Practice/Ground Water Project Notebook/Ground Water 2016.csv')\n",
    "G17 = pd.read_csv('C:/Users/amand/OneDrive/Documents/Power BI Practice/Ground Water Project Notebook/Ground Water 2017.csv')\n",
    "G18 = pd.read_csv('C:/Users/amand/OneDrive/Documents/Power BI Practice/Ground Water Project Notebook/Ground Water 2018.csv')\n",
    "G19 = pd.read_csv('C:/Users/amand/OneDrive/Documents/Power BI Practice/Ground Water Project Notebook/Ground Water 2019.csv')\n",
    "G21 = pd.read_csv('C:/Users/amand/OneDrive/Documents/Power BI Practice/Ground Water Project Notebook/Ground Water 2021.csv')"
   ]
  },
  {
   "cell_type": "code",
   "execution_count": 3,
   "id": "54cc5970",
   "metadata": {},
   "outputs": [],
   "source": [
    "df=pd.concat([G12,G13,G14,G15,G16,G17,G18,G19,G21], ignore_index=True)"
   ]
  },
  {
   "cell_type": "code",
   "execution_count": 4,
   "id": "b0dff946",
   "metadata": {},
   "outputs": [],
   "source": [
    "df.dropna(axis=0,inplace=True)"
   ]
  },
  {
   "cell_type": "code",
   "execution_count": 5,
   "id": "822a2297",
   "metadata": {},
   "outputs": [
    {
     "data": {
      "text/plain": [
       "Station Code                   0\n",
       "Station Name                   0\n",
       "STATE                          0\n",
       "Temperature Min                0\n",
       "Temperature Max                0\n",
       "pH Min                         0\n",
       "pH Max                         0\n",
       "Conductivity (µmhos/cm) Min    0\n",
       "Conductivity (µmhos/cm) Max    0\n",
       "Year                           0\n",
       "dtype: int64"
      ]
     },
     "execution_count": 5,
     "metadata": {},
     "output_type": "execute_result"
    }
   ],
   "source": [
    "result=df.isnull().sum()\n",
    "result"
   ]
  },
  {
   "cell_type": "code",
   "execution_count": 6,
   "id": "daef408b",
   "metadata": {},
   "outputs": [],
   "source": [
    "df['STATE']=df['STATE'].str.upper()"
   ]
  },
  {
   "cell_type": "code",
   "execution_count": 7,
   "id": "18f8080b",
   "metadata": {},
   "outputs": [],
   "source": [
    "df.sort_values(by='Year', inplace=True, ascending=False, ignore_index=True)"
   ]
  },
  {
   "cell_type": "code",
   "execution_count": 8,
   "id": "f2a27aea",
   "metadata": {},
   "outputs": [],
   "source": [
    "df.rename(columns={'Station Code':'Station_Code'}, inplace=True)"
   ]
  },
  {
   "cell_type": "code",
   "execution_count": 9,
   "id": "fb2ff084",
   "metadata": {},
   "outputs": [],
   "source": [
    "df.Station_Code=df.Station_Code.astype(int)"
   ]
  },
  {
   "cell_type": "code",
   "execution_count": 10,
   "id": "73ebb8ce",
   "metadata": {},
   "outputs": [
    {
     "name": "stdout",
     "output_type": "stream",
     "text": [
      "<class 'pandas.core.frame.DataFrame'>\n",
      "RangeIndex: 5703 entries, 0 to 5702\n",
      "Data columns (total 10 columns):\n",
      " #   Column                       Non-Null Count  Dtype  \n",
      "---  ------                       --------------  -----  \n",
      " 0   Station_Code                 5703 non-null   int32  \n",
      " 1   Station Name                 5703 non-null   object \n",
      " 2   STATE                        5703 non-null   object \n",
      " 3   Temperature Min              5703 non-null   float64\n",
      " 4   Temperature Max              5703 non-null   float64\n",
      " 5   pH Min                       5703 non-null   float64\n",
      " 6   pH Max                       5703 non-null   float64\n",
      " 7   Conductivity (µmhos/cm) Min  5703 non-null   float64\n",
      " 8   Conductivity (µmhos/cm) Max  5703 non-null   float64\n",
      " 9   Year                         5703 non-null   int64  \n",
      "dtypes: float64(6), int32(1), int64(1), object(2)\n",
      "memory usage: 423.4+ KB\n"
     ]
    }
   ],
   "source": [
    "df.info()"
   ]
  },
  {
   "cell_type": "code",
   "execution_count": 11,
   "id": "85a7d0d3",
   "metadata": {},
   "outputs": [
    {
     "data": {
      "text/html": [
       "<div>\n",
       "<style scoped>\n",
       "    .dataframe tbody tr th:only-of-type {\n",
       "        vertical-align: middle;\n",
       "    }\n",
       "\n",
       "    .dataframe tbody tr th {\n",
       "        vertical-align: top;\n",
       "    }\n",
       "\n",
       "    .dataframe thead th {\n",
       "        text-align: right;\n",
       "    }\n",
       "</style>\n",
       "<table border=\"1\" class=\"dataframe\">\n",
       "  <thead>\n",
       "    <tr style=\"text-align: right;\">\n",
       "      <th></th>\n",
       "      <th>Station_Code</th>\n",
       "      <th>Station Name</th>\n",
       "      <th>STATE</th>\n",
       "      <th>Temperature Min</th>\n",
       "      <th>Temperature Max</th>\n",
       "      <th>pH Min</th>\n",
       "      <th>pH Max</th>\n",
       "      <th>Conductivity (µmhos/cm) Min</th>\n",
       "      <th>Conductivity (µmhos/cm) Max</th>\n",
       "      <th>Year</th>\n",
       "    </tr>\n",
       "  </thead>\n",
       "  <tbody>\n",
       "    <tr>\n",
       "      <th>0</th>\n",
       "      <td>2535</td>\n",
       "      <td>VISVA BHARATI</td>\n",
       "      <td>WEST BENGAL</td>\n",
       "      <td>30.0</td>\n",
       "      <td>31.0</td>\n",
       "      <td>7.9</td>\n",
       "      <td>8.2</td>\n",
       "      <td>370.0</td>\n",
       "      <td>437.0</td>\n",
       "      <td>2021</td>\n",
       "    </tr>\n",
       "    <tr>\n",
       "      <th>1</th>\n",
       "      <td>2327</td>\n",
       "      <td>WELL AT KARUKAMANI</td>\n",
       "      <td>KERALA</td>\n",
       "      <td>27.0</td>\n",
       "      <td>28.0</td>\n",
       "      <td>7.1</td>\n",
       "      <td>7.6</td>\n",
       "      <td>670.0</td>\n",
       "      <td>875.0</td>\n",
       "      <td>2021</td>\n",
       "    </tr>\n",
       "    <tr>\n",
       "      <th>2</th>\n",
       "      <td>3475</td>\n",
       "      <td>WELL AT KARIMBAM, KANNUR</td>\n",
       "      <td>KERALA</td>\n",
       "      <td>27.0</td>\n",
       "      <td>28.0</td>\n",
       "      <td>5.2</td>\n",
       "      <td>5.5</td>\n",
       "      <td>64.0</td>\n",
       "      <td>71.0</td>\n",
       "      <td>2021</td>\n",
       "    </tr>\n",
       "    <tr>\n",
       "      <th>3</th>\n",
       "      <td>1591</td>\n",
       "      <td>WELL AT KANNUR\\n(MUNICIPALITY) KANNUR\\nDISTTM ...</td>\n",
       "      <td>KERALA</td>\n",
       "      <td>28.0</td>\n",
       "      <td>28.0</td>\n",
       "      <td>4.9</td>\n",
       "      <td>5.6</td>\n",
       "      <td>90.0</td>\n",
       "      <td>116.0</td>\n",
       "      <td>2021</td>\n",
       "    </tr>\n",
       "    <tr>\n",
       "      <th>4</th>\n",
       "      <td>1587</td>\n",
       "      <td>WELL AT KALAMASSERY\\nERNAKULAM DISTT. , KERALA</td>\n",
       "      <td>KERALA</td>\n",
       "      <td>29.0</td>\n",
       "      <td>30.0</td>\n",
       "      <td>5.7</td>\n",
       "      <td>5.8</td>\n",
       "      <td>246.0</td>\n",
       "      <td>403.0</td>\n",
       "      <td>2021</td>\n",
       "    </tr>\n",
       "    <tr>\n",
       "      <th>5</th>\n",
       "      <td>2315</td>\n",
       "      <td>WELL AT K.M.M.L. (KOLLAM)</td>\n",
       "      <td>KERALA</td>\n",
       "      <td>21.0</td>\n",
       "      <td>25.0</td>\n",
       "      <td>6.4</td>\n",
       "      <td>7.8</td>\n",
       "      <td>210.0</td>\n",
       "      <td>211.0</td>\n",
       "      <td>2021</td>\n",
       "    </tr>\n",
       "    <tr>\n",
       "      <th>6</th>\n",
       "      <td>2324</td>\n",
       "      <td>WELL AT HAZARDOUS WASTE\\nDUMP (AMBALAMUGHAL)</td>\n",
       "      <td>KERALA</td>\n",
       "      <td>29.0</td>\n",
       "      <td>31.0</td>\n",
       "      <td>5.1</td>\n",
       "      <td>5.4</td>\n",
       "      <td>113.0</td>\n",
       "      <td>128.0</td>\n",
       "      <td>2021</td>\n",
       "    </tr>\n",
       "    <tr>\n",
       "      <th>7</th>\n",
       "      <td>2308</td>\n",
       "      <td>WELL AT FATHIMAPURAM\\n(CHANGANASSERY)</td>\n",
       "      <td>KERALA</td>\n",
       "      <td>28.0</td>\n",
       "      <td>30.0</td>\n",
       "      <td>6.3</td>\n",
       "      <td>6.4</td>\n",
       "      <td>147.0</td>\n",
       "      <td>218.0</td>\n",
       "      <td>2021</td>\n",
       "    </tr>\n",
       "    <tr>\n",
       "      <th>8</th>\n",
       "      <td>1586</td>\n",
       "      <td>WELL AT EDAYAR ERNAKULAM\\nDISTT., KERALA</td>\n",
       "      <td>KERALA</td>\n",
       "      <td>27.0</td>\n",
       "      <td>28.0</td>\n",
       "      <td>5.9</td>\n",
       "      <td>6.4</td>\n",
       "      <td>231.0</td>\n",
       "      <td>420.0</td>\n",
       "      <td>2021</td>\n",
       "    </tr>\n",
       "    <tr>\n",
       "      <th>9</th>\n",
       "      <td>22</td>\n",
       "      <td>WELL AT CHUNGAPALLY, KERALA</td>\n",
       "      <td>KERALA</td>\n",
       "      <td>29.0</td>\n",
       "      <td>30.0</td>\n",
       "      <td>5.5</td>\n",
       "      <td>6.4</td>\n",
       "      <td>112.0</td>\n",
       "      <td>132.0</td>\n",
       "      <td>2021</td>\n",
       "    </tr>\n",
       "  </tbody>\n",
       "</table>\n",
       "</div>"
      ],
      "text/plain": [
       "   Station_Code                                       Station Name  \\\n",
       "0          2535                                      VISVA BHARATI   \n",
       "1          2327                                 WELL AT KARUKAMANI   \n",
       "2          3475                           WELL AT KARIMBAM, KANNUR   \n",
       "3          1591  WELL AT KANNUR\\n(MUNICIPALITY) KANNUR\\nDISTTM ...   \n",
       "4          1587     WELL AT KALAMASSERY\\nERNAKULAM DISTT. , KERALA   \n",
       "5          2315                          WELL AT K.M.M.L. (KOLLAM)   \n",
       "6          2324       WELL AT HAZARDOUS WASTE\\nDUMP (AMBALAMUGHAL)   \n",
       "7          2308              WELL AT FATHIMAPURAM\\n(CHANGANASSERY)   \n",
       "8          1586           WELL AT EDAYAR ERNAKULAM\\nDISTT., KERALA   \n",
       "9            22                        WELL AT CHUNGAPALLY, KERALA   \n",
       "\n",
       "         STATE  Temperature Min  Temperature Max  pH Min  pH Max  \\\n",
       "0  WEST BENGAL             30.0             31.0     7.9     8.2   \n",
       "1       KERALA             27.0             28.0     7.1     7.6   \n",
       "2       KERALA             27.0             28.0     5.2     5.5   \n",
       "3       KERALA             28.0             28.0     4.9     5.6   \n",
       "4       KERALA             29.0             30.0     5.7     5.8   \n",
       "5       KERALA             21.0             25.0     6.4     7.8   \n",
       "6       KERALA             29.0             31.0     5.1     5.4   \n",
       "7       KERALA             28.0             30.0     6.3     6.4   \n",
       "8       KERALA             27.0             28.0     5.9     6.4   \n",
       "9       KERALA             29.0             30.0     5.5     6.4   \n",
       "\n",
       "   Conductivity (µmhos/cm) Min  Conductivity (µmhos/cm) Max  Year  \n",
       "0                        370.0                        437.0  2021  \n",
       "1                        670.0                        875.0  2021  \n",
       "2                         64.0                         71.0  2021  \n",
       "3                         90.0                        116.0  2021  \n",
       "4                        246.0                        403.0  2021  \n",
       "5                        210.0                        211.0  2021  \n",
       "6                        113.0                        128.0  2021  \n",
       "7                        147.0                        218.0  2021  \n",
       "8                        231.0                        420.0  2021  \n",
       "9                        112.0                        132.0  2021  "
      ]
     },
     "execution_count": 11,
     "metadata": {},
     "output_type": "execute_result"
    }
   ],
   "source": [
    "df.reset_index(inplace=True, drop=True)\n",
    "df.head(10)"
   ]
  },
  {
   "cell_type": "code",
   "execution_count": null,
   "id": "27fc5a9a",
   "metadata": {},
   "outputs": [],
   "source": []
  }
 ],
 "metadata": {
  "kernelspec": {
   "display_name": "Python 3 (ipykernel)",
   "language": "python",
   "name": "python3"
  },
  "language_info": {
   "codemirror_mode": {
    "name": "ipython",
    "version": 3
   },
   "file_extension": ".py",
   "mimetype": "text/x-python",
   "name": "python",
   "nbconvert_exporter": "python",
   "pygments_lexer": "ipython3",
   "version": "3.9.13"
  }
 },
 "nbformat": 4,
 "nbformat_minor": 5
}
